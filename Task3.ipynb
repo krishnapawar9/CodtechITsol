{
 "cells": [
  {
   "cell_type": "markdown",
   "id": "af134647-1b42-431f-90f8-253a387fc4a5",
   "metadata": {},
   "source": [
    "## Features of the Dashboard:\n",
    "### 1. Table of top restaurant chains\n",
    "### 2. Bar chart of number of locations\n",
    "### 3. Bar chart of average rating\n",
    "### 4. Interactivity: Sort, hover, zoom"
   ]
  },
  {
   "cell_type": "code",
   "execution_count": 2,
   "id": "2a0358ae-e4fa-4107-af35-28435f7fd25d",
   "metadata": {},
   "outputs": [
    {
     "name": "stdout",
     "output_type": "stream",
     "text": [
      "Requirement already satisfied: dash in c:\\users\\krishna\\appdata\\local\\programs\\python\\python312\\lib\\site-packages (3.0.4)Note: you may need to restart the kernel to use updated packages.\n",
      "\n",
      "Requirement already satisfied: pandas in c:\\users\\krishna\\appdata\\local\\programs\\python\\python312\\lib\\site-packages (2.2.2)\n",
      "Requirement already satisfied: plotly in c:\\users\\krishna\\appdata\\local\\programs\\python\\python312\\lib\\site-packages (6.0.1)\n",
      "Requirement already satisfied: Flask<3.1,>=1.0.4 in c:\\users\\krishna\\appdata\\local\\programs\\python\\python312\\lib\\site-packages (from dash) (3.0.3)\n",
      "Requirement already satisfied: Werkzeug<3.1 in c:\\users\\krishna\\appdata\\local\\programs\\python\\python312\\lib\\site-packages (from dash) (3.0.6)\n",
      "Requirement already satisfied: importlib-metadata in c:\\users\\krishna\\appdata\\local\\programs\\python\\python312\\lib\\site-packages (from dash) (8.7.0)\n",
      "Requirement already satisfied: typing-extensions>=4.1.1 in c:\\users\\krishna\\appdata\\local\\programs\\python\\python312\\lib\\site-packages (from dash) (4.13.2)\n",
      "Requirement already satisfied: requests in c:\\users\\krishna\\appdata\\local\\programs\\python\\python312\\lib\\site-packages (from dash) (2.32.3)\n",
      "Requirement already satisfied: retrying in c:\\users\\krishna\\appdata\\local\\programs\\python\\python312\\lib\\site-packages (from dash) (1.3.4)\n",
      "Requirement already satisfied: nest-asyncio in c:\\users\\krishna\\appdata\\local\\programs\\python\\python312\\lib\\site-packages (from dash) (1.6.0)\n",
      "Requirement already satisfied: setuptools in c:\\users\\krishna\\appdata\\local\\programs\\python\\python312\\lib\\site-packages (from dash) (80.3.0)\n",
      "Requirement already satisfied: numpy>=1.26.0 in c:\\users\\krishna\\appdata\\local\\programs\\python\\python312\\lib\\site-packages (from pandas) (2.0.0)\n",
      "Requirement already satisfied: python-dateutil>=2.8.2 in c:\\users\\krishna\\appdata\\local\\programs\\python\\python312\\lib\\site-packages (from pandas) (2.9.0.post0)\n",
      "Requirement already satisfied: pytz>=2020.1 in c:\\users\\krishna\\appdata\\local\\programs\\python\\python312\\lib\\site-packages (from pandas) (2024.1)\n",
      "Requirement already satisfied: tzdata>=2022.7 in c:\\users\\krishna\\appdata\\local\\programs\\python\\python312\\lib\\site-packages (from pandas) (2024.1)\n",
      "Requirement already satisfied: narwhals>=1.15.1 in c:\\users\\krishna\\appdata\\local\\programs\\python\\python312\\lib\\site-packages (from plotly) (1.37.1)\n",
      "Requirement already satisfied: packaging in c:\\users\\krishna\\appdata\\local\\programs\\python\\python312\\lib\\site-packages (from plotly) (24.0)\n",
      "Requirement already satisfied: Jinja2>=3.1.2 in c:\\users\\krishna\\appdata\\local\\programs\\python\\python312\\lib\\site-packages (from Flask<3.1,>=1.0.4->dash) (3.1.4)\n",
      "Requirement already satisfied: itsdangerous>=2.1.2 in c:\\users\\krishna\\appdata\\local\\programs\\python\\python312\\lib\\site-packages (from Flask<3.1,>=1.0.4->dash) (2.2.0)\n",
      "Requirement already satisfied: click>=8.1.3 in c:\\users\\krishna\\appdata\\local\\programs\\python\\python312\\lib\\site-packages (from Flask<3.1,>=1.0.4->dash) (8.1.8)\n",
      "Requirement already satisfied: blinker>=1.6.2 in c:\\users\\krishna\\appdata\\local\\programs\\python\\python312\\lib\\site-packages (from Flask<3.1,>=1.0.4->dash) (1.9.0)\n",
      "Requirement already satisfied: six>=1.5 in c:\\users\\krishna\\appdata\\local\\programs\\python\\python312\\lib\\site-packages (from python-dateutil>=2.8.2->pandas) (1.16.0)\n",
      "Requirement already satisfied: MarkupSafe>=2.1.1 in c:\\users\\krishna\\appdata\\local\\programs\\python\\python312\\lib\\site-packages (from Werkzeug<3.1->dash) (2.1.5)\n",
      "Requirement already satisfied: zipp>=3.20 in c:\\users\\krishna\\appdata\\local\\programs\\python\\python312\\lib\\site-packages (from importlib-metadata->dash) (3.21.0)\n",
      "Requirement already satisfied: charset-normalizer<4,>=2 in c:\\users\\krishna\\appdata\\local\\programs\\python\\python312\\lib\\site-packages (from requests->dash) (3.3.2)\n",
      "Requirement already satisfied: idna<4,>=2.5 in c:\\users\\krishna\\appdata\\local\\programs\\python\\python312\\lib\\site-packages (from requests->dash) (2.10)\n",
      "Requirement already satisfied: urllib3<3,>=1.21.1 in c:\\users\\krishna\\appdata\\local\\programs\\python\\python312\\lib\\site-packages (from requests->dash) (2.2.1)\n",
      "Requirement already satisfied: certifi>=2017.4.17 in c:\\users\\krishna\\appdata\\local\\programs\\python\\python312\\lib\\site-packages (from requests->dash) (2024.6.2)\n",
      "Requirement already satisfied: colorama in c:\\users\\krishna\\appdata\\local\\programs\\python\\python312\\lib\\site-packages (from click>=8.1.3->Flask<3.1,>=1.0.4->dash) (0.4.6)\n"
     ]
    },
    {
     "name": "stderr",
     "output_type": "stream",
     "text": [
      "\n",
      "[notice] A new release of pip is available: 24.0 -> 25.1.1\n",
      "[notice] To update, run: python.exe -m pip install --upgrade pip\n"
     ]
    }
   ],
   "source": [
    "pip install dash pandas plotly"
   ]
  },
  {
   "cell_type": "code",
   "execution_count": 4,
   "id": "1a466cf0-fcc3-49e3-900d-fe7ae68aa91e",
   "metadata": {},
   "outputs": [
    {
     "data": {
      "text/html": [
       "\n",
       "        <iframe\n",
       "            width=\"100%\"\n",
       "            height=\"650\"\n",
       "            src=\"http://127.0.0.1:8050/\"\n",
       "            frameborder=\"0\"\n",
       "            allowfullscreen\n",
       "            \n",
       "        ></iframe>\n",
       "        "
      ],
      "text/plain": [
       "<IPython.lib.display.IFrame at 0x25602270170>"
      ]
     },
     "metadata": {},
     "output_type": "display_data"
    }
   ],
   "source": [
    "import pandas as pd\n",
    "import dash\n",
    "from dash import dcc, html\n",
    "import plotly.express as px\n",
    "\n",
    "# Load the dataset\n",
    "file_path = \"Dataset .csv\"\n",
    "df = pd.read_csv(file_path, on_bad_lines='skip', quoting=1)\n",
    "\n",
    "# Clean and preprocess\n",
    "df['Aggregate rating'] = pd.to_numeric(df['Aggregate rating'], errors='coerce')\n",
    "df['Votes'] = pd.to_numeric(df['Votes'], errors='coerce')\n",
    "\n",
    "# Identify chains\n",
    "chain_counts = df['Restaurant Name'].value_counts()\n",
    "chains = chain_counts[chain_counts > 1]\n",
    "df_chains = df[df['Restaurant Name'].isin(chains.index)]\n",
    "\n",
    "# Group and summarize\n",
    "chain_summary = df_chains.groupby('Restaurant Name').agg({\n",
    "    'Aggregate rating': 'mean',\n",
    "    'Votes': 'sum',\n",
    "    'Restaurant Name': 'count'\n",
    "}).rename(columns={\n",
    "    'Aggregate rating': 'Average Rating',\n",
    "    'Votes': 'Total Votes',\n",
    "    'Restaurant Name': 'Number of Locations'\n",
    "}).sort_values(by='Number of Locations', ascending=False).reset_index()\n",
    "\n",
    "# Setup Dash app\n",
    "app = dash.Dash(__name__)\n",
    "app.title = \"Restaurant Chains Dashboard\"\n",
    "\n",
    "# Layout\n",
    "app.layout = html.Div([\n",
    "    html.H1(\"Restaurant Chains Analysis\", style={'textAlign': 'center'}),\n",
    "\n",
    "    dcc.Graph(\n",
    "        figure=px.bar(\n",
    "            chain_summary.head(10),\n",
    "            x='Restaurant Name',\n",
    "            y='Number of Locations',\n",
    "            title=\"Top 10 Restaurant Chains by Number of Locations\",\n",
    "            color='Number of Locations',\n",
    "            color_continuous_scale='Blues'\n",
    "        )\n",
    "    ),\n",
    "\n",
    "    dcc.Graph(\n",
    "        figure=px.bar(\n",
    "            chain_summary[chain_summary['Number of Locations'] >= 3].sort_values(by='Average Rating', ascending=False).head(10),\n",
    "            x='Restaurant Name',\n",
    "            y='Average Rating',\n",
    "            title=\"Top 10 Chains by Average Rating (Min 3 Locations)\",\n",
    "            color='Average Rating',\n",
    "            color_continuous_scale='Greens',\n",
    "            range_y=[0, 5]\n",
    "        )\n",
    "    ),\n",
    "\n",
    "    dcc.Graph(\n",
    "        figure=px.scatter(\n",
    "            chain_summary,\n",
    "            x='Number of Locations',\n",
    "            y='Average Rating',\n",
    "            size='Total Votes',\n",
    "            hover_name='Restaurant Name',\n",
    "            title=\"Restaurant Chains: Locations vs Rating (Bubble Size = Popularity)\",\n",
    "            color='Average Rating',\n",
    "            color_continuous_scale='Viridis',\n",
    "            range_y=[0, 5]\n",
    "        )\n",
    "    )\n",
    "])\n",
    "\n",
    "if __name__ == '__main__':\n",
    "    app.run(debug=True)\n"
   ]
  },
  {
   "cell_type": "code",
   "execution_count": null,
   "id": "8ab172e3-20a8-4eaf-99bd-62e29834ac7e",
   "metadata": {},
   "outputs": [],
   "source": []
  }
 ],
 "metadata": {
  "kernelspec": {
   "display_name": "Python 3 (ipykernel)",
   "language": "python",
   "name": "python3"
  },
  "language_info": {
   "codemirror_mode": {
    "name": "ipython",
    "version": 3
   },
   "file_extension": ".py",
   "mimetype": "text/x-python",
   "name": "python",
   "nbconvert_exporter": "python",
   "pygments_lexer": "ipython3",
   "version": "3.12.3"
  }
 },
 "nbformat": 4,
 "nbformat_minor": 5
}
