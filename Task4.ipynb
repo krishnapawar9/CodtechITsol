{
 "cells": [
  {
   "cell_type": "code",
   "execution_count": 1,
   "id": "70fa1270-915b-44c1-b0d5-5992783318c0",
   "metadata": {},
   "outputs": [],
   "source": [
    "import pandas as pd\n",
    "import matplotlib.pyplot as plt\n",
    "import seaborn as sns\n",
    "import nltk\n",
    "from nltk.corpus import stopwords\n",
    "from nltk.tokenize import word_tokenize\n",
    "import string"
   ]
  },
  {
   "cell_type": "code",
   "execution_count": 2,
   "id": "2f44006e-9550-417a-99a2-99edffa5666f",
   "metadata": {},
   "outputs": [
    {
     "name": "stderr",
     "output_type": "stream",
     "text": [
      "[nltk_data] Downloading package punkt to\n",
      "[nltk_data]     C:\\Users\\krishna\\AppData\\Roaming\\nltk_data...\n",
      "[nltk_data]   Package punkt is already up-to-date!\n",
      "[nltk_data] Downloading package stopwords to\n",
      "[nltk_data]     C:\\Users\\krishna\\AppData\\Roaming\\nltk_data...\n",
      "[nltk_data]   Package stopwords is already up-to-date!\n"
     ]
    },
    {
     "data": {
      "text/plain": [
       "True"
      ]
     },
     "execution_count": 2,
     "metadata": {},
     "output_type": "execute_result"
    }
   ],
   "source": [
    "nltk.download('punkt')\n",
    "nltk.download('stopwords')"
   ]
  },
  {
   "cell_type": "code",
   "execution_count": 3,
   "id": "228bd1b3-4f17-470e-9ab4-fb157ec965ce",
   "metadata": {},
   "outputs": [],
   "source": [
    "file_path = \"Dataset .csv\"  # Update this if needed\n",
    "df = pd.read_csv(file_path, on_bad_lines='skip', quoting=1)"
   ]
  },
  {
   "cell_type": "code",
   "execution_count": 4,
   "id": "1804c142-6521-4c21-a857-75c14b960bd9",
   "metadata": {},
   "outputs": [
    {
     "name": "stdout",
     "output_type": "stream",
     "text": [
      "Available columns: Index(['Restaurant ID', 'Restaurant Name', 'Country Code', 'City', 'Address',\n",
      "       'Locality', 'Locality Verbose', 'Longitude', 'Latitude', 'Cuisines',\n",
      "       'Average Cost for two', 'Currency', 'Has Table booking',\n",
      "       'Has Online delivery', 'Is delivering now', 'Switch to order menu',\n",
      "       'Price range', 'Aggregate rating', 'Rating color', 'Rating text',\n",
      "       'Votes'],\n",
      "      dtype='object')\n"
     ]
    }
   ],
   "source": [
    "expected_cols = ['Rating text', 'Aggregate rating']\n",
    "df.columns = [col.strip() for col in df.columns]\n",
    "print(\"Available columns:\", df.columns)"
   ]
  },
  {
   "cell_type": "code",
   "execution_count": null,
   "id": "ec638f6e-e0e8-4710-947c-f8f5f6b05aee",
   "metadata": {},
   "outputs": [],
   "source": []
  },
  {
   "cell_type": "markdown",
   "id": "de45993b-f07d-4838-a206-d802434e21d8",
   "metadata": {},
   "source": [
    "## Analyze the text reviews to identify the most common positive and negative keywords."
   ]
  },
  {
   "cell_type": "code",
   "execution_count": 5,
   "id": "a62a6f65-a4c3-454b-b607-8af9bf1414b9",
   "metadata": {},
   "outputs": [],
   "source": [
    "rating_text_col = 'Rating text'\n",
    "rating_col = 'Aggregate rating'"
   ]
  },
  {
   "cell_type": "code",
   "execution_count": 6,
   "id": "8dc4c06f-d854-4361-9f57-5344de12f678",
   "metadata": {},
   "outputs": [],
   "source": [
    "df = df.dropna(subset=[rating_text_col, rating_col])"
   ]
  },
  {
   "cell_type": "code",
   "execution_count": 7,
   "id": "43c6438d-48a0-4ecc-9ced-6c4e470d6b6f",
   "metadata": {},
   "outputs": [],
   "source": [
    "df[rating_col] = pd.to_numeric(df[rating_col], errors='coerce')"
   ]
  },
  {
   "cell_type": "code",
   "execution_count": 8,
   "id": "86377956-6da0-42bd-85bd-fa734d0745bd",
   "metadata": {},
   "outputs": [
    {
     "name": "stdout",
     "output_type": "stream",
     "text": [
      "\n",
      "Most common Rating Text values:\n",
      "Rating text\n",
      "Average      3737\n",
      "Not rated    2148\n",
      "Good         2100\n",
      "Very Good    1079\n",
      "Excellent     301\n",
      "Poor          186\n",
      "Name: count, dtype: int64\n"
     ]
    }
   ],
   "source": [
    "rating_text_counts = df[rating_text_col].value_counts()\n",
    "print(\"\\nMost common Rating Text values:\")\n",
    "print(rating_text_counts)"
   ]
  },
  {
   "cell_type": "code",
   "execution_count": 9,
   "id": "71e90b45-0d65-4fbf-91ce-b3aef06e5ba3",
   "metadata": {},
   "outputs": [],
   "source": [
    "positive_texts = ['Excellent', 'Very Good', 'Good']\n",
    "negative_texts = ['Poor', 'Average', 'Not rated']"
   ]
  },
  {
   "cell_type": "code",
   "execution_count": 10,
   "id": "9f57fcb3-e295-45a5-a23c-a8d5f2d0bf18",
   "metadata": {},
   "outputs": [],
   "source": [
    "positive_keywords = {text: rating_text_counts[text] for text in positive_texts if text in rating_text_counts}\n",
    "negative_keywords = {text: rating_text_counts[text] for text in negative_texts if text in rating_text_counts}"
   ]
  },
  {
   "cell_type": "code",
   "execution_count": 11,
   "id": "48b13fd7-18bf-48c1-916d-2478cfb4f3a3",
   "metadata": {},
   "outputs": [
    {
     "name": "stdout",
     "output_type": "stream",
     "text": [
      "\n",
      "Positive Rating Keywords & Counts:\n",
      "{'Excellent': np.int64(301), 'Very Good': np.int64(1079), 'Good': np.int64(2100)}\n",
      "\n",
      "Negative Rating Keywords & Counts:\n",
      "{'Poor': np.int64(186), 'Average': np.int64(3737), 'Not rated': np.int64(2148)}\n"
     ]
    }
   ],
   "source": [
    "print(\"\\nPositive Rating Keywords & Counts:\")\n",
    "print(positive_keywords)\n",
    "\n",
    "print(\"\\nNegative Rating Keywords & Counts:\")\n",
    "print(negative_keywords)"
   ]
  },
  {
   "cell_type": "code",
   "execution_count": null,
   "id": "13c35389-7168-4fc2-9c42-8abaad7e153d",
   "metadata": {},
   "outputs": [],
   "source": []
  },
  {
   "cell_type": "markdown",
   "id": "8bf18cfe-d8fb-4b91-a5ec-97b42dd4936b",
   "metadata": {},
   "source": [
    "## Calculate the average length of reviews and explore if there is a relationship between review length and rating."
   ]
  },
  {
   "cell_type": "code",
   "execution_count": 12,
   "id": "4478a7ad-5be1-4ec7-9741-7992ad811ba0",
   "metadata": {},
   "outputs": [],
   "source": [
    "stop_words = set(stopwords.words('english'))\n",
    "punctuation = set(string.punctuation)"
   ]
  },
  {
   "cell_type": "code",
   "execution_count": 15,
   "id": "620ed2cb-e939-4891-9c94-32565a52eab2",
   "metadata": {},
   "outputs": [
    {
     "name": "stderr",
     "output_type": "stream",
     "text": [
      "[nltk_data] Downloading package punkt to\n",
      "[nltk_data]     C:\\Users\\krishna\\AppData\\Roaming\\nltk_data...\n",
      "[nltk_data]   Package punkt is already up-to-date!\n"
     ]
    },
    {
     "data": {
      "text/plain": [
       "True"
      ]
     },
     "execution_count": 15,
     "metadata": {},
     "output_type": "execute_result"
    }
   ],
   "source": [
    "import nltk\n",
    "nltk.download('punkt')"
   ]
  },
  {
   "cell_type": "code",
   "execution_count": 16,
   "id": "509baca0-52c6-408b-bd18-6c86c0398e98",
   "metadata": {},
   "outputs": [
    {
     "name": "stderr",
     "output_type": "stream",
     "text": [
      "[nltk_data] Downloading package punkt to\n",
      "[nltk_data]     C:\\Users\\krishna\\AppData\\Roaming\\nltk_data...\n",
      "[nltk_data]   Package punkt is already up-to-date!\n",
      "[nltk_data] Downloading package stopwords to\n",
      "[nltk_data]     C:\\Users\\krishna\\AppData\\Roaming\\nltk_data...\n",
      "[nltk_data]   Package stopwords is already up-to-date!\n"
     ]
    },
    {
     "data": {
      "text/plain": [
       "True"
      ]
     },
     "execution_count": 16,
     "metadata": {},
     "output_type": "execute_result"
    }
   ],
   "source": [
    "import nltk\n",
    "nltk.download('punkt')  # <== ADD THIS LINE BEFORE USING word_tokenize\n",
    "nltk.download('stopwords')  # Already included, but make sure it's here too"
   ]
  },
  {
   "cell_type": "code",
   "execution_count": 19,
   "id": "6c317bd2-52fa-4136-8c08-a43f5a814199",
   "metadata": {},
   "outputs": [
    {
     "name": "stderr",
     "output_type": "stream",
     "text": [
      "[nltk_data] Downloading package punkt_tab to\n",
      "[nltk_data]     C:\\Users\\krishna\\AppData\\Roaming\\nltk_data...\n",
      "[nltk_data]   Unzipping tokenizers\\punkt_tab.zip.\n"
     ]
    },
    {
     "data": {
      "text/plain": [
       "True"
      ]
     },
     "execution_count": 19,
     "metadata": {},
     "output_type": "execute_result"
    }
   ],
   "source": [
    "nltk.download('punkt_tab')"
   ]
  },
  {
   "cell_type": "code",
   "execution_count": 20,
   "id": "d69674be-0117-45c4-b813-e3ff0b9eba2b",
   "metadata": {},
   "outputs": [],
   "source": [
    "def clean_and_count_words(text):\n",
    "    tokens = word_tokenize(str(text).lower())\n",
    "    words = [word for word in tokens if word.isalpha() and word not in stop_words]\n",
    "    return len(words)"
   ]
  },
  {
   "cell_type": "code",
   "execution_count": 21,
   "id": "e195eae7-bda0-4236-9e69-999b98879d5b",
   "metadata": {},
   "outputs": [
    {
     "name": "stdout",
     "output_type": "stream",
     "text": [
      "\n",
      "Average Review Length (in words): 1.00\n"
     ]
    }
   ],
   "source": [
    "df['Review Length'] = df[rating_text_col].apply(clean_and_count_words)\n",
    "average_length = df['Review Length'].mean()\n",
    "print(f\"\\nAverage Review Length (in words): {average_length:.2f}\")"
   ]
  },
  {
   "cell_type": "code",
   "execution_count": 22,
   "id": "cfa1cbd7-4e14-437e-b78c-99681879c7d0",
   "metadata": {},
   "outputs": [
    {
     "data": {
      "image/png": "[encoded data removed]",
      "text/plain": [
       "<Figure size 800x500 with 1 Axes>"
      ]
     },
     "metadata": {},
     "output_type": "display_data"
    }
   ],
   "source": [
    "plt.figure(figsize=(8, 5))\n",
    "sns.scatterplot(data=df, x='Review Length', y=rating_col, alpha=0.5)\n",
    "plt.title(\"Review Length vs. Aggregate Rating\")\n",
    "plt.xlabel(\"Review Length (words)\")\n",
    "plt.ylabel(\"Aggregate Rating\")\n",
    "plt.grid(True)\n",
    "plt.tight_layout()\n",
    "plt.show()"
   ]
  },
  {
   "cell_type": "code",
   "execution_count": null,
   "id": "a88ded4d-c6c6-49a3-b0f6-a5f6ea13e8b1",
   "metadata": {},
   "outputs": [],
   "source": []
  }
 ],
 "metadata": {
  "kernelspec": {
   "display_name": "Python 3 (ipykernel)",
   "language": "python",
   "name": "python3"
  },
  "language_info": {
   "codemirror_mode": {
    "name": "ipython",
    "version": 3
   },
   "file_extension": ".py",
   "mimetype": "text/x-python",
   "name": "python",
   "nbconvert_exporter": "python",
   "pygments_lexer": "ipython3",
   "version": "3.12.3"
  }
 },
 "nbformat": 4,
 "nbformat_minor": 5
}
